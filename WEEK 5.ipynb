{
 "cells": [
  {
   "cell_type": "code",
   "execution_count": 7,
   "id": "95857378",
   "metadata": {},
   "outputs": [
    {
     "name": "stdout",
     "output_type": "stream",
     "text": [
      "Enter a number: a\n",
      "That's not a number!\n",
      "This is executed no matter what\n"
     ]
    }
   ],
   "source": [
    "try:\n",
    "    number=int(input(\"Enter a number: \"))\n",
    "except ValueError:\n",
    "    print(\"That's not a number!\")\n",
    "else:\n",
    "    print(\"Your number is\",number)\n",
    "finally:\n",
    "    print(\"This is executed no matter what\")\n"
   ]
  },
  {
   "cell_type": "code",
   "execution_count": 12,
   "id": "f3e9af60",
   "metadata": {},
   "outputs": [
    {
     "ename": "SyntaxError",
     "evalue": "invalid syntax (1996720002.py, line 7)",
     "output_type": "error",
     "traceback": [
      "\u001b[1;36m  Cell \u001b[1;32mIn[12], line 7\u001b[1;36m\u001b[0m\n\u001b[1;33m    goto try:\u001b[0m\n\u001b[1;37m         ^\u001b[0m\n\u001b[1;31mSyntaxError\u001b[0m\u001b[1;31m:\u001b[0m invalid syntax\n"
     ]
    }
   ],
   "source": [
    "try:\n",
    "    user_input = input(\"Enter a number: \")\n",
    "    result = 1 /int(user_input)\n",
    "    print(result)\n",
    "except ValueError:\n",
    "    print(\"Please enter a number!\")\n",
    "except ZeroDivisionError:\n",
    "    print(\"Division by zero is not allowed, please enter other number\")\n"
   ]
  },
  {
   "cell_type": "code",
   "execution_count": 3,
   "id": "f4920ee7",
   "metadata": {},
   "outputs": [
    {
     "name": "stdout",
     "output_type": "stream",
     "text": [
      "Please enter 2 number\n",
      "Number 1 =2\n",
      "Number 2 =3\n",
      "Which operation? [sum,subtraction,multiplication,division] = sum\n",
      "5\n"
     ]
    }
   ],
   "source": [
    "#Simple calculator\n",
    "def sum(a,b):\n",
    "    return a+b\n",
    "def subtraction(a,b):\n",
    "    return a-b\n",
    "def multiplication(a,b):\n",
    "    return a*b\n",
    "def division(a,b):\n",
    "    return a/b\n",
    "\n",
    "print(\"Please enter 2 number\")\n",
    "try: \n",
    "    \n",
    "    a = int(input(\"Number 1 =\"))\n",
    "    b = int(input(\"Number 2 =\"))\n",
    "    Operation = input(\"Which operation? [sum,subtraction,multiplication,division] = \")\n",
    "    if(Operation==\"sum\"):\n",
    "        print(sum(a,b))\n",
    "    elif(Operation==\"subtraction\"):\n",
    "          print(subtraction(a,b))\n",
    "    elif(Operation==\"multiplication\"):\n",
    "        print(multiplication(a,b))\n",
    "    elif(Operation==\"division\"):\n",
    "        print(division(a,b))\n",
    "    else:\n",
    "        print(\"No operation available\")\n",
    "   \n",
    "    \n",
    "except ValueError:\n",
    "    print(\"Enter numbers!\")\n",
    "    \n",
    "except ZeroDivisionError:\n",
    "    print(\"No zero division allowed\")\n",
    "except:\n",
    "    print(\"There is an error\")\n",
    "\n",
    "    "
   ]
  },
  {
   "cell_type": "code",
   "execution_count": 42,
   "id": "9a22b54f",
   "metadata": {},
   "outputs": [],
   "source": [
    " def sum(a,b):\n",
    "    return a+b\n",
    "def subtraction(a,b):\n",
    "    return a-b\n",
    "\n",
    "def multiplication(a,b):\n",
    "    return a*b\n",
    "\n",
    "def division(a,b):\n",
    "    return a/b\n"
   ]
  },
  {
   "cell_type": "code",
   "execution_count": null,
   "id": "645508f9",
   "metadata": {},
   "outputs": [],
   "source": []
  },
  {
   "cell_type": "code",
   "execution_count": null,
   "id": "c5556ece",
   "metadata": {},
   "outputs": [],
   "source": []
  }
 ],
 "metadata": {
  "kernelspec": {
   "display_name": "Python 3 (ipykernel)",
   "language": "python",
   "name": "python3"
  },
  "language_info": {
   "codemirror_mode": {
    "name": "ipython",
    "version": 3
   },
   "file_extension": ".py",
   "mimetype": "text/x-python",
   "name": "python",
   "nbconvert_exporter": "python",
   "pygments_lexer": "ipython3",
   "version": "3.11.5"
  }
 },
 "nbformat": 4,
 "nbformat_minor": 5
}
